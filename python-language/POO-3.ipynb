{
  "nbformat": 4,
  "nbformat_minor": 0,
  "metadata": {
    "colab": {
      "name": "POO-3.ipynb",
      "provenance": [],
      "collapsed_sections": []
    },
    "kernelspec": {
      "name": "python3",
      "display_name": "Python 3"
    },
    "language_info": {
      "name": "python"
    }
  },
  "cells": [
    {
      "cell_type": "markdown",
      "metadata": {
        "id": "tOXDLbvY_UVM"
      },
      "source": [
        "Autor: Érick Barbosa de Souza\n",
        "\n",
        "Home: https://abre.ai/ebsouza-pagina\n",
        "\n",
        "Instagram: @erickbsouza\n",
        "\n",
        "\n",
        "\n",
        "---"
      ]
    },
    {
      "cell_type": "markdown",
      "metadata": {
        "id": "QVAufeeVU-s1"
      },
      "source": [
        "**Programação Orientada a Objetos**"
      ]
    },
    {
      "cell_type": "markdown",
      "metadata": {
        "id": "H-sMRXv9_byz"
      },
      "source": [
        "**1. Métodos especiais**\n",
        "\n",
        "Estes métodos permitem a implementação de alguns comportamentos específicos de um objeto. \n",
        "\n",
        "Quando queremos implementar as instruções que serão executadas no ato da criação de um objeto, implementamos ***__init__()*** . Já as instruções no ato da destrução do objeto são implementadas em ***__del__()***.\n",
        "\n",
        "E o que será exibido quando o objeto é passado para o método print() como argumento é descrito em __str__().\n",
        "\n",
        "Outros métodos especiais você encontra na [documentação oficial](https://docs.python.org/3/reference/datamodel.html#special-method-names)"
      ]
    },
    {
      "cell_type": "code",
      "metadata": {
        "id": "gkKouvImO2zT"
      },
      "source": [
        "class Point:\n",
        "\n",
        "  def __init__(self, x, y):\n",
        "    self.x = x\n",
        "    self.y = y\n",
        "\n",
        "  def __str__(self):\n",
        "    return f\"({self.x},{self.y})\"\n",
        "\n",
        "  def __del__(self):\n",
        "    print(\"Destruindo o ponto\")"
      ],
      "execution_count": null,
      "outputs": []
    },
    {
      "cell_type": "code",
      "metadata": {
        "id": "lKxvcZKzPWVW"
      },
      "source": [
        "#Instanciando um objeto Point\n",
        "point = Point(2,2)"
      ],
      "execution_count": null,
      "outputs": []
    },
    {
      "cell_type": "code",
      "metadata": {
        "colab": {
          "base_uri": "https://localhost:8080/"
        },
        "id": "6CPPKcxzPZyY",
        "outputId": "5c05baae-042a-4a64-82ca-32799baa0f5e"
      },
      "source": [
        "#Passando o objeto como argumento de print()\n",
        "print(point)"
      ],
      "execution_count": null,
      "outputs": [
        {
          "output_type": "stream",
          "text": [
            "(2,2)\n"
          ],
          "name": "stdout"
        }
      ]
    },
    {
      "cell_type": "code",
      "metadata": {
        "colab": {
          "base_uri": "https://localhost:8080/"
        },
        "id": "87uH6KxxPZ1A",
        "outputId": "51ceb0d9-a4f5-4901-a489-56b867d4d3cf"
      },
      "source": [
        "#Destruindo o objeto com o operador del\n",
        "del point"
      ],
      "execution_count": null,
      "outputs": [
        {
          "output_type": "stream",
          "text": [
            "Destruindo o ponto\n"
          ],
          "name": "stdout"
        }
      ]
    },
    {
      "cell_type": "markdown",
      "metadata": {
        "id": "rUihr5Jj_czm"
      },
      "source": [
        "**2. Sobrecarga de operadores aritméticos**\n",
        "\n",
        "Para possibilitar a adição ou subtração de dois pontos, é necessário definir as instruções necessáriasp ara esta operação.\n",
        "\n",
        "Point não é um tipo primitivo, portanto o interpretador não sabe o que fazer quando dois objetos deste tipo são colocados como operandos de + ou -."
      ]
    },
    {
      "cell_type": "code",
      "metadata": {
        "id": "-EFFj7QvO2OV"
      },
      "source": [
        "class Point:\n",
        "  def __init__(self, x, y):\n",
        "    self.x = x\n",
        "    self.y = y\n",
        "\n",
        "  def __str__(self):\n",
        "    return f\"({self.x},{self.y})\"\n",
        "\n",
        "  def __add__(self, other):\n",
        "    x = self.x + other.x\n",
        "    y = self.y + other.y\n",
        "    return Point(x, y)\n",
        "\n",
        "  def __sub__(self, other):\n",
        "    x = self.x - other.x\n",
        "    y = self.y - other.y\n",
        "    return Point(x, y)"
      ],
      "execution_count": null,
      "outputs": []
    },
    {
      "cell_type": "code",
      "metadata": {
        "id": "a-Tws6keT9Px"
      },
      "source": [
        "#Instanciando dois pontos com coordenadas\n",
        "point1 = Point(10,10)\n",
        "point2 = Point(15,15)"
      ],
      "execution_count": null,
      "outputs": []
    },
    {
      "cell_type": "code",
      "metadata": {
        "colab": {
          "base_uri": "https://localhost:8080/"
        },
        "id": "ZUuIPQfNUHB5",
        "outputId": "229a5a8f-cf9c-49b8-be9e-fad129f1468a"
      },
      "source": [
        "#point3 armazenada o resultado da operação soma\n",
        "point3 = point1 + point2\n",
        "print(point3)"
      ],
      "execution_count": null,
      "outputs": [
        {
          "output_type": "stream",
          "text": [
            "(10,10)\n"
          ],
          "name": "stdout"
        }
      ]
    },
    {
      "cell_type": "markdown",
      "metadata": {
        "id": "vd3uRXTfdjKW"
      },
      "source": [
        "Outros operadores também podem ser escritos para um tipo criado. Veja a [documentação oficial](https://docs.python.org/3/reference/datamodel.html#special-method-names)."
      ]
    },
    {
      "cell_type": "markdown",
      "metadata": {
        "id": "HI8trkwi_c4D"
      },
      "source": [
        "**3. Sobrecarga de operadores de comparação**\n",
        "\n",
        "A comparação de dois objetos de uma classe também só pode ser realizada se explicitamente definirmos esta operação.\n",
        "\n",
        "Abaixo nós temos o exemplo da aplição do operador igualdade (==)."
      ]
    },
    {
      "cell_type": "code",
      "metadata": {
        "id": "E1g7e0E-O3ih"
      },
      "source": [
        "class Point:\n",
        "  def __init__(self, x, y):\n",
        "    self.x = x\n",
        "    self.y = y\n",
        "\n",
        "  def __str__(self):\n",
        "    return f\"({self.x},{self.y})\"\n",
        "\n",
        "  def __eq__(self, other):\n",
        "    x_equal = self.x == other.x\n",
        "    y_equal = self.y == other.y\n",
        "    return x_equal and y_equal"
      ],
      "execution_count": null,
      "outputs": []
    },
    {
      "cell_type": "code",
      "metadata": {
        "id": "0_5xGZhSUTlh"
      },
      "source": [
        "point1 = Point(5,5)\n",
        "point2 = Point(5,5)\n",
        "point3 = Point(2,3)"
      ],
      "execution_count": null,
      "outputs": []
    },
    {
      "cell_type": "code",
      "metadata": {
        "colab": {
          "base_uri": "https://localhost:8080/"
        },
        "id": "QRpx3UCZUTtP",
        "outputId": "b9633d72-6821-402d-c9a9-31031b04cafe"
      },
      "source": [
        "#point1 e point2 são pontos de mesma posição\n",
        "point1 == point2"
      ],
      "execution_count": null,
      "outputs": [
        {
          "output_type": "execute_result",
          "data": {
            "text/plain": [
              "True"
            ]
          },
          "metadata": {
            "tags": []
          },
          "execution_count": 27
        }
      ]
    },
    {
      "cell_type": "code",
      "metadata": {
        "colab": {
          "base_uri": "https://localhost:8080/"
        },
        "id": "Kp2xRwiVeT__",
        "outputId": "a5d52c93-dc36-4cc4-8d7e-43522c9c2f73"
      },
      "source": [
        "#point1 e point3 não possuem a mesma posição\n",
        "point1 == point3"
      ],
      "execution_count": null,
      "outputs": [
        {
          "output_type": "execute_result",
          "data": {
            "text/plain": [
              "False"
            ]
          },
          "metadata": {
            "tags": []
          },
          "execution_count": 28
        }
      ]
    },
    {
      "cell_type": "markdown",
      "metadata": {
        "id": "ZjnZZmPqqR-m"
      },
      "source": [
        "\n",
        "---\n",
        "\n",
        "\n",
        "Espero que tenha gostado do material. Sempre que possível farei atualizações neste conteúdo.\n",
        "\n",
        "Se tiver sugestões ou dúvidas a respeito do assunto, entre em contato comigo pelo instagram @erickbsouza."
      ]
    }
  ]
}