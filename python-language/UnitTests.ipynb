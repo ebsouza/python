{
  "nbformat": 4,
  "nbformat_minor": 0,
  "metadata": {
    "colab": {
      "name": "UnitTests.ipynb",
      "provenance": [],
      "collapsed_sections": []
    },
    "kernelspec": {
      "name": "python3",
      "display_name": "Python 3"
    },
    "language_info": {
      "name": "python"
    }
  },
  "cells": [
    {
      "cell_type": "markdown",
      "metadata": {
        "id": "DYyK5dE-VMVO"
      },
      "source": [
        "Autor: Érick Barbosa de Souza\n",
        "\n",
        "Home: https://abre.ai/ebsouza-pagina\n",
        "\n",
        "Instagram: @erickbsouza\n",
        "\n",
        "\n",
        "\n",
        "---"
      ]
    },
    {
      "cell_type": "markdown",
      "metadata": {
        "id": "uaBd_aIfZfrC"
      },
      "source": [
        "**Testes unitários**\n",
        "\n",
        "O que são testes unitários\n",
        "\n",
        "Citar módulo unittest | Testes em arquivo .py é feito de forma diferente"
      ]
    },
    {
      "cell_type": "code",
      "metadata": {
        "id": "4FxCSgHV0-ex"
      },
      "source": [
        "class Point:\n",
        "\n",
        "  # x e y são atributos da classe\n",
        "  def __init__(self, x, y):\n",
        "    self.x = x\n",
        "    self.y = y\n",
        "\n",
        "  # Métodos que modificam os atributos\n",
        "  def move_x(self, delta_x):\n",
        "    self.x += delta_x\n",
        "\n",
        "  def move_y(self, delta_y):\n",
        "    self.y += delta_y\n",
        "\n",
        "  # Método que exibe valores dos atributos\n",
        "  def show_coordinates(self):\n",
        "    print(f'({self.x}, {self.y})')"
      ],
      "execution_count": null,
      "outputs": []
    },
    {
      "cell_type": "markdown",
      "metadata": {
        "id": "7yyZwHJpfofi"
      },
      "source": [
        "**1. Definindo testes**"
      ]
    },
    {
      "cell_type": "code",
      "metadata": {
        "id": "9VCALgQy03Om"
      },
      "source": [
        "def test_move_x(point, delta_x):\n",
        "  x_before = point.x\n",
        "  point.move_x(delta_x)\n",
        "  assert x_before + delta_x == point.x, \"Deslocamento incorreto em X\"\n",
        "  print(\"Deslocamento correto em X\")\n",
        "\n",
        "def test_move_y(point, delta_y):\n",
        "  y_before = point.y\n",
        "  point.move_y(delta_y)\n",
        "  assert y_before + delta_y == point.y, \"Deslocamento incorreto em Y\"\n",
        "  print(\"Deslocamento correto em Y\")"
      ],
      "execution_count": null,
      "outputs": []
    },
    {
      "cell_type": "code",
      "metadata": {
        "id": "RkQFsAhp1zTn"
      },
      "source": [
        "def pointTestCases():\n",
        "  point = Point(10, 10)\n",
        "  test_move_x(point, 20)\n",
        "  test_move_y(point, -20)"
      ],
      "execution_count": null,
      "outputs": []
    },
    {
      "cell_type": "code",
      "metadata": {
        "colab": {
          "base_uri": "https://localhost:8080/"
        },
        "id": "kMcViZp92EpD",
        "outputId": "09619cca-ebfa-4a99-b89f-31e97dccbc69"
      },
      "source": [
        "pointTestCases()"
      ],
      "execution_count": null,
      "outputs": [
        {
          "output_type": "stream",
          "text": [
            "Deslocamento correto em X\n",
            "Deslocamento correto em Y\n"
          ],
          "name": "stdout"
        }
      ]
    },
    {
      "cell_type": "markdown",
      "metadata": {
        "id": "IBprpMDKsAiF"
      },
      "source": [
        "Experimente modificar as instruções do método move_x ou move_y e em seguida chamar ***pointTestCases()*** novamente. "
      ]
    },
    {
      "cell_type": "markdown",
      "metadata": {
        "id": "aUxTb4BFqm_w"
      },
      "source": [
        "**Exemplo arquivo .py**"
      ]
    },
    {
      "cell_type": "code",
      "metadata": {
        "id": "6f654hcM_3vO"
      },
      "source": [
        "#Exemplo arquivo .py\n",
        "import unittest\n",
        "\n",
        "class TestPointMethods(unittest.TestCase):\n",
        "\n",
        "  def test_move_x(self):\n",
        "    point = Point(5,5)\n",
        "    x_before = point.x\n",
        "    point.move_x(delta_x)\n",
        "    self.assertEqual(x_before + delta_x, point.x)\n",
        "\n",
        "  def test_move_y(point, delta_y):\n",
        "    point = Point(5,5)\n",
        "    y_before = point.y\n",
        "    point.move_y(delta_y)\n",
        "    self.assertEqual(y_before + delta_y, point.y)\n",
        "\n",
        "if __name__ == '__main__':\n",
        "    unittest.main()"
      ],
      "execution_count": null,
      "outputs": []
    },
    {
      "cell_type": "markdown",
      "metadata": {
        "id": "ECVNhAI_qUPq"
      },
      "source": [
        "\n",
        "---\n",
        "\n",
        "\n",
        "Espero que tenha gostado do material. Sempre que possível farei atualizações neste conteúdo.\n",
        "\n",
        "Se tiver sugestões ou dúvidas a respeito do assunto, entre em contato comigo pelo instagram @erickbsouza."
      ]
    }
  ]
}