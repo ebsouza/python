{
  "nbformat": 4,
  "nbformat_minor": 0,
  "metadata": {
    "colab": {
      "name": "TratamentoExcecao.ipynb",
      "provenance": [],
      "collapsed_sections": []
    },
    "kernelspec": {
      "name": "python3",
      "display_name": "Python 3"
    },
    "language_info": {
      "name": "python"
    }
  },
  "cells": [
    {
      "cell_type": "markdown",
      "metadata": {
        "id": "xyY1D_tEc9-f"
      },
      "source": [
        "> **Autor:** Érick Barbosa de Souza  \n",
        ">\n",
        "> **Home:** https://abre.ai/ebsouza-pagina   \n",
        ">\n",
        "> **Instagram:** @erickbsouza\n",
        "\n",
        "---\n"
      ]
    },
    {
      "cell_type": "markdown",
      "metadata": {
        "id": "Zu0XRXZqitA9"
      },
      "source": [
        "**Tratamento de exceção**\n",
        "\n",
        "**1. Introdução**\n",
        "\n",
        "Um programa escrito em Python finaliza a sua execução toda vez que encontra um erro. Eles podem ser classificados como **exceções** ou **erros de sintaxe**. Saber tratar exceções ajuda a desenvolver programas que não tem a sua execução interrompida devido a tentativa de acesar um arquivo inexiste por exemplo.\n",
        "\n",
        "Logo abaixo, temos um exemplo de erro de sintaxe."
      ]
    },
    {
      "cell_type": "code",
      "metadata": {
        "id": "2QADTK17iM1a"
      },
      "source": [
        "# Erro de sintaxe\n",
        "variable \"Hello world\" "
      ],
      "execution_count": null,
      "outputs": []
    },
    {
      "cell_type": "code",
      "metadata": {
        "id": "oXDPcXkUgOWc"
      },
      "source": [
        "# Sintaxe correta\n",
        "variable = \"Hello world\""
      ],
      "execution_count": null,
      "outputs": []
    },
    {
      "cell_type": "markdown",
      "metadata": {
        "id": "4EfhjO4Qhq6Y"
      },
      "source": [
        "Exceções são lançadas quando um comportamento inesperado acontece. Por exemplo, no código abaixo há a tentativa de realizar uma divisão por zero."
      ]
    },
    {
      "cell_type": "code",
      "metadata": {
        "id": "SCWm2nVNi9tD"
      },
      "source": [
        "# Lançamento de Exceção: Divisão por zero\n",
        "print(10 / 0) "
      ],
      "execution_count": null,
      "outputs": []
    },
    {
      "cell_type": "markdown",
      "metadata": {
        "id": "yfnuFYHxiaOD"
      },
      "source": [
        "Exceções são lançadas apenas em códigos sintaticamente corretos, ou seja, aqueles que não apresentam erros de sintaxe. \n",
        "\n",
        "Experimente executar o código abaixo e observe que o erro apresentado não é devido a tentativa de dividir 10 por 0, e sim por devido a sintaxe incorreta."
      ]
    },
    {
      "cell_type": "code",
      "metadata": {
        "id": "wbhEOlxAhj7G"
      },
      "source": [
        "# Erro de sintaxe\n",
        "print 10/0"
      ],
      "execution_count": null,
      "outputs": []
    },
    {
      "cell_type": "markdown",
      "metadata": {
        "id": "_khUz8HwjLu8"
      },
      "source": [
        "**2. Lançando uma exceção**\n",
        "\n",
        "É possível forçar o lançamento de uma exceção manualmente. Este recurso é muito útil quando queremos evidenciar que determinado fluxo do programa representa um erro.\n"
      ]
    },
    {
      "cell_type": "code",
      "metadata": {
        "id": "MHL7a6aZn8Fk"
      },
      "source": [
        "A = -10\n",
        "if A < 0 :\n",
        "    raise Exception(\"A' não pode ser um valor negativo\")"
      ],
      "execution_count": null,
      "outputs": []
    },
    {
      "cell_type": "markdown",
      "metadata": {
        "id": "WCRJMDM1jMV8"
      },
      "source": [
        "**3. Asserts**\n",
        "\n",
        "Assert é mais um recurso que o programador pode fazer uso para lançar erros. Seu uso é bem simples, basta que seu valor lógico seja Falso.\n",
        "\n",
        "No exemplo abaixo, o valor lógico do assert é resultado da aplicação do operador de igualdade, a exceção é lançada caso o número de elementos de 'items' seja diferente de 5."
      ]
    },
    {
      "cell_type": "code",
      "metadata": {
        "id": "HqDzp-MWsIxn"
      },
      "source": [
        "items = ['one', 'two', 'three', 'four', 'five']"
      ],
      "execution_count": null,
      "outputs": []
    },
    {
      "cell_type": "code",
      "metadata": {
        "id": "LSAb3fpmsrQ3"
      },
      "source": [
        "# nOk\n",
        "assert len(items) == 3, \"Esta lista deve conter 5 itens\""
      ],
      "execution_count": null,
      "outputs": []
    },
    {
      "cell_type": "code",
      "metadata": {
        "id": "ZYdE7D-nsrMg"
      },
      "source": [
        "# Ok\n",
        "assert len(items) == 5, \"Esta lista deve conter 5 itens\""
      ],
      "execution_count": null,
      "outputs": []
    },
    {
      "cell_type": "markdown",
      "metadata": {
        "id": "31ugoP1tjUZm"
      },
      "source": [
        "**4. Tratando exceções**\n",
        "\n",
        "Chegou a hora de aprendermos a evitar que os erros de exceção interrompam o nosso programa. \n",
        "\n",
        "A função 'sum_positive_elements' verifica se os seus argumentos são positivos antes de realizar a soma. Caso um deles seja negativo ou zero, uma exceção é lançada."
      ]
    },
    {
      "cell_type": "code",
      "metadata": {
        "id": "hd8iwkLEyNRx"
      },
      "source": [
        "def sum_positive_elements(a, b):\n",
        "    assert a > 0, \"'a' deve ser positivo\"\n",
        "    assert b > 0, \"'b' deve ser positivo\"\n",
        "    return a + b"
      ],
      "execution_count": null,
      "outputs": []
    },
    {
      "cell_type": "markdown",
      "metadata": {
        "id": "6xeuXnShG-y_"
      },
      "source": [
        "Experimente passar valores negativos como argumentos. Obs: É importante que a célula acima seja executada para que o interpretador possa reconhecê-la na célula debaixo."
      ]
    },
    {
      "cell_type": "code",
      "metadata": {
        "id": "lv2FBnEyG7Gh"
      },
      "source": [
        "sum_positive_elements(-10, -100)"
      ],
      "execution_count": null,
      "outputs": []
    },
    {
      "cell_type": "markdown",
      "metadata": {
        "id": "yduULIHHHR68"
      },
      "source": [
        "Utilizando o bloco 'try/except', é possível passar valores negativos sem que os erros travem o funcionamento do programa."
      ]
    },
    {
      "cell_type": "code",
      "metadata": {
        "id": "ed85_vD1ytcy"
      },
      "source": [
        "# Alterando os valores de 'a' e 'b' para positivos, você obterá a resposta da operação soma nesta célula.\n",
        "a = -2\n",
        "b = 5\n",
        "try:\n",
        "    sum = sum_positive_elements(a, b)\n",
        "    print(\"Resultado da operação\")\n",
        "    print(\"a + b = {}\".format(sum))\n",
        "except:\n",
        "    print(\"Não foi possível realizar a operação\")"
      ],
      "execution_count": null,
      "outputs": []
    },
    {
      "cell_type": "markdown",
      "metadata": {
        "id": "T65XeNcH0A49"
      },
      "source": [
        "Este é o jeito mais simples, porém NÃO RECOMENDADO, de tratar uma exceção. Caso você opte por tratar a exceção desta forma, é muito importante que você esteja em um contexto controlado ou saiba exatamente o que esteja fazendo.\n",
        "\n",
        "Em projetos reais não basta tratar a exceção, é necessário saber qual exceção foi lançada para que o seu código não vire uma bomba relógio: podendo estourar a qualquer momento e com poucas chances de se encontrar a verdadeira causa."
      ]
    },
    {
      "cell_type": "code",
      "metadata": {
        "id": "EFYkOjZy0duJ"
      },
      "source": [
        "a = -2\n",
        "b = 5\n",
        "try:\n",
        "    sum = sum_positive_elements(a, b)\n",
        "    print(\"Resultado da operação\")\n",
        "    print(\"a + b = {}\".format(sum))\n",
        "except AssertionError as error:\n",
        "    print(\"Não foi possível realizar a operação\")\n",
        "    print(\"Motivo: {}\".format(error))"
      ],
      "execution_count": null,
      "outputs": []
    },
    {
      "cell_type": "markdown",
      "metadata": {
        "id": "jfrrvicyuPuG"
      },
      "source": [
        "**5. Tratamento avançado de exceções (opcional)**\n",
        "\n",
        "Muitos materiais introdutórios abordam tratamento de exceções até o item 4. Aqui você conferir recursos mais avançados ('else' e 'finally') no tratamento de exceções em Python."
      ]
    },
    {
      "cell_type": "markdown",
      "metadata": {
        "id": "U8RWDf745Ovm"
      },
      "source": [
        "Quando nenhuma erro é lançado no bloco 'try', a execução vai diretamente para o bloco 'else' e 'finally' em seguida."
      ]
    },
    {
      "cell_type": "code",
      "metadata": {
        "id": "l55aUW5p3g2X"
      },
      "source": [
        "a = 5\n",
        "b = 5\n",
        "try:\n",
        "    sum = sum_positive_elements(a, b)\n",
        "    print(\"Resultado da operação\")\n",
        "    print(\"a + b = {}\".format(sum))\n",
        "except AssertionError as error:\n",
        "    print(\"Não foi possível realizar a operação.\")\n",
        "    print(\"Motivo: {}\".format(error))\n",
        "else:\n",
        "    print(\"Operação realizda com sucesso!\")\n",
        "finally:\n",
        "    print(\"Finalizando o programa.\")"
      ],
      "execution_count": null,
      "outputs": []
    },
    {
      "cell_type": "markdown",
      "metadata": {
        "id": "xxaEKY097ify"
      },
      "source": [
        "Quando há um erro no bloco 'try', o bloco 'except' é executado e em seguida 'finally'."
      ]
    },
    {
      "cell_type": "code",
      "metadata": {
        "id": "aI1o7tE_4szP"
      },
      "source": [
        "a = -2\n",
        "b = 5\n",
        "try:\n",
        "    sum = sum_positive_elements(a, b)\n",
        "    print(\"Resultado da operação\")\n",
        "    print(\"a + b = {}\".format(sum))\n",
        "except AssertionError as error:\n",
        "    print(\"Não foi possível realizar a operação.\")\n",
        "    print(\"Motivo: {}\".format(error))\n",
        "else:\n",
        "    print(\"Operação realizda com sucesso!\")\n",
        "finally:\n",
        "    print(\"Finalizando o programa.\")"
      ],
      "execution_count": null,
      "outputs": []
    },
    {
      "cell_type": "markdown",
      "metadata": {
        "id": "Msx3UQ4F7yKI"
      },
      "source": [
        "Resumindo: Diferente dos blocos 'except' e 'else', 'finally' é sempre executado, independente do lançamento de erro no bloco 'try'. O bloco 'except' é executado em caso de erro e 'else' caso contrário."
      ]
    },
    {
      "cell_type": "markdown",
      "metadata": {
        "id": "1TJWDcfk3rFE"
      },
      "source": [
        "**6. Erros mais comuns em Python**"
      ]
    },
    {
      "cell_type": "code",
      "metadata": {
        "id": "2rNpBA1P3v9D"
      },
      "source": [
        "SyntaxError\t    \t      Lançado quando um erro de sintaxe é encontrado.\n",
        "AssertionError\t    \t      Lançado quando um 'assert' falha.\n",
        "ImportError\t    \t      Lançado quando um módulo importado não é encontrado.\n",
        "IndexError\t    \t      Lançado quando um índice de uma sequência está fora de alcance.\n",
        "KeyError\t    \t      Lançado quando uma chave não é encontrado no dicionário.\n",
        "KeyboardInterrupt\t    \t      Lançado quando o usuário pressiona Ctrl + C ou Delete na execução de um programa.\n",
        "NameError\t    \t      Lançado quando o nome de uma variável não é encontrada nem no 'escopo local' ou 'global'.\n",
        "OverflowError\t    \t      Lançado quando o resultado de uma operação aritmética é muito grande para ser representado.\n",
        "RuntimeError\t    \t      Lançado quando o erro ocorrido não pode ser classificado em outra categoria.\n",
        "IndentationError\t    \t      Lançado quando ocorre uma identação errada.\n",
        "ZeroDivisionError\t    \t      Lançado quando o segundo operando de uma divisão ou módulo da operação é igual a zero."
      ],
      "execution_count": null,
      "outputs": []
    },
    {
      "cell_type": "markdown",
      "metadata": {
        "id": "xUeybqaC6UW9"
      },
      "source": [
        "Quer saber mais sobre tratamento de exceção? Confira a versão em português da [documentação oficial](https://docs.python.org/pt-br/3/library/exceptions.html)."
      ]
    }
  ]
}