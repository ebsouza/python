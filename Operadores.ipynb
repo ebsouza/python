{
  "nbformat": 4,
  "nbformat_minor": 0,
  "metadata": {
    "colab": {
      "name": "Operadores.ipynb",
      "provenance": [],
      "collapsed_sections": []
    },
    "kernelspec": {
      "name": "python3",
      "display_name": "Python 3"
    },
    "language_info": {
      "name": "python"
    }
  },
  "cells": [
    {
      "cell_type": "markdown",
      "metadata": {
        "id": "cFJtZ-kjVYff"
      },
      "source": [
        "> **Autor:** Érick Barbosa de Souza\n",
        ">\n",
        "> **Home:** https://abre.ai/ebsouza-pagina\n",
        ">\n",
        "> **Instagram:** @erickbsouza\n",
        "\n",
        "\n",
        "\n",
        "---"
      ]
    },
    {
      "cell_type": "markdown",
      "metadata": {
        "id": "PJjMz40nGH4y"
      },
      "source": [
        "**Operadores**\n",
        "\n",
        "São símbolos especiais que tem um significado próprio para a linguagem e estão associados a determinadas operações. Na linguagem Python existem, por exemplo, operadores aritméticos, lógicos, de comparação, atribuição, etc.\n",
        "\n",
        "Todo operador necessita de pelo menos um operando. Por exemplo, a expressão 'a + b' contém um operador(+) e dois operandos('a' e 'b'). Outro exemplo é a expressão 'not a', que possui apenas um operador(not) e um operando(a)."
      ]
    },
    {
      "cell_type": "markdown",
      "metadata": {
        "id": "oAClAAaNGHOF"
      },
      "source": [
        "**Operadores aritméticos**\n",
        "\n",
        "Realizam operações matemáticas entre dois valores do tipo numérico.\n",
        "\n"
      ]
    },
    {
      "cell_type": "markdown",
      "metadata": {
        "id": "5sguqTWjbs-z"
      },
      "source": [
        "| Operador      | Significado | Exemplo     |\n",
        "| :---        |    :----:   |          ---: |\n",
        "| +      | Soma dois valores       | a + b   |\n",
        "| -   | Subtrai dois valores        | a - b      |\n",
        "| *   | Multiplica dois valores        | a * b      |\n",
        "| /   | Divide o valor da esquerda pelo da direita        | a / b      |\n",
        "| //   | Resultado como valor inteiro da divisão pelo operador '/'       | a // b      |\n",
        "| %   | Resto da divisão da operação 'a / b'        | a % b      |\n",
        "| **   | Eleva 'a' a potencia de 'b'    | a ** b      |\n",
        "\n"
      ]
    },
    {
      "cell_type": "code",
      "metadata": {
        "id": "Ri8p9OJ5G-jc",
        "colab": {
          "base_uri": "https://localhost:8080/"
        },
        "outputId": "0daf5b20-b5f8-40e3-e035-75929654c079"
      },
      "source": [
        "#Exemplos\n",
        "\n",
        "a = 22\n",
        "b = 4\n",
        "\n",
        "# Output: a + b = 26\n",
        "print('a + b =',a+b)\n",
        "\n",
        "# Output: a - b = 18\n",
        "print('a - b =',a-b)\n",
        "\n",
        "# Output: a * b = 88\n",
        "print('a * b =',a*b)\n",
        "\n",
        "# Output: a / b = 5.5\n",
        "print('a / b =',a/b)\n",
        "\n",
        "# Output: a // b = 5\n",
        "print('a // b =',a//b)\n",
        "\n",
        "# Output: a % b = 2\n",
        "print('a % b =',a%b)\n",
        "\n",
        "# Output: a ** b = 234256\n",
        "print('a ** b =',a**b)"
      ],
      "execution_count": null,
      "outputs": [
        {
          "output_type": "stream",
          "text": [
            "a + b = 26\n",
            "a - b = 18\n",
            "a * b = 88\n",
            "a / b = 5.5\n",
            "a // b = 5\n",
            "a % b = 2\n",
            "a ** b = 234256\n"
          ],
          "name": "stdout"
        }
      ]
    },
    {
      "cell_type": "markdown",
      "metadata": {
        "id": "WwB7ouEeGH7F"
      },
      "source": [
        "**Operadores de comparação**\n",
        "\n",
        "Realizam comparações entre dois valores e o resultado da operação é um valor do tipo lógico."
      ]
    },
    {
      "cell_type": "markdown",
      "metadata": {
        "id": "oaGXvIta7kNS"
      },
      "source": [
        "| Operador      | Significado | Exemplo     |\n",
        "| :---        |    :----:   |          ---: |\n",
        "| >      | 'a' maior que 'b'       | a > b   |\n",
        "| <   | 'a' menor que 'b'         | a < b      |\n",
        "| ==   | 'a' igual a 'b'         | a == b      |\n",
        "| !=   | 'a' diferente de 'b'         | a != b      |\n",
        "| >=   | 'a' maior OU igual a 'b'        | a >= b      |\n",
        "| <=  | 'a' menor OU igual a 'b'         | a <= b      |\n"
      ]
    },
    {
      "cell_type": "code",
      "metadata": {
        "id": "Zv68ZGc2HOS1",
        "colab": {
          "base_uri": "https://localhost:8080/"
        },
        "outputId": "59435438-d20c-443b-cf9d-36f40b9e1e0f"
      },
      "source": [
        "a = 15\n",
        "b = 28\n",
        "\n",
        "# Output: a > b is False\n",
        "print('a > b is',a>b)\n",
        "\n",
        "# Output: a < b is True\n",
        "print('a < b is',a<b)\n",
        "\n",
        "# Output: a == b is False\n",
        "print('a == b is',a==b)\n",
        "\n",
        "# Output: a != b is True\n",
        "print('a != b is',a!=b)\n",
        "\n",
        "# Output: a >= b is False\n",
        "print('a >= b is',a>=b)\n",
        "\n",
        "# Output: a <= b is True\n",
        "print('a <= b is',a<=b)"
      ],
      "execution_count": null,
      "outputs": [
        {
          "output_type": "stream",
          "text": [
            "a > b is False\n",
            "a < b is True\n",
            "a == b is False\n",
            "a != b is True\n",
            "a >= b is False\n",
            "a <= b is True\n"
          ],
          "name": "stdout"
        }
      ]
    },
    {
      "cell_type": "markdown",
      "metadata": {
        "id": "08Tbt3xrGH9u"
      },
      "source": [
        "Em Python também é possível realizar operadores de comparação em cadeia."
      ]
    },
    {
      "cell_type": "code",
      "metadata": {
        "colab": {
          "base_uri": "https://localhost:8080/"
        },
        "id": "M7lNo7YzguQf",
        "outputId": "7b0cdb3f-fd67-4dc1-e93b-00c2cf20f638"
      },
      "source": [
        "x = 28\n",
        "\n",
        "# Output: 10 < x < 20 is False\n",
        "print('10 < x < 20 is', 10<x<20)\n",
        "\n",
        "# Output: 20 < b < 30 is True\n",
        "print('20 < x < 30 is', 20<x<30)"
      ],
      "execution_count": null,
      "outputs": [
        {
          "output_type": "stream",
          "text": [
            "10 < x < 20 is False\n",
            "20 < x < 30 is True\n"
          ],
          "name": "stdout"
        }
      ]
    },
    {
      "cell_type": "markdown",
      "metadata": {
        "id": "_mBUkMXqGIAb"
      },
      "source": [
        "**Operadores lógicos**\n",
        "\n",
        "Estes operadores tem valores lógicos como operandos."
      ]
    },
    {
      "cell_type": "markdown",
      "metadata": {
        "id": "-_7DnwMR8XvP"
      },
      "source": [
        "| Operador      | Significado | Exemplo     |\n",
        "| :---        |    :----:   |          ---: |\n",
        "| and      | Verdadeiro se 'a' E 'b' são verdadeiros       | a and b   |\n",
        "| or   | Verdadeiro se 'a' OU 'b' são verdadeiros         | a or b      |\n",
        "| not   | Inversão do valor lógico         | not a      |\n"
      ]
    },
    {
      "cell_type": "code",
      "metadata": {
        "id": "aocHQtuTmvOP",
        "colab": {
          "base_uri": "https://localhost:8080/"
        },
        "outputId": "95e3ff67-b537-4c49-b166-373391f5aaf8"
      },
      "source": [
        "a = True\n",
        "b = False\n",
        "\n",
        "print('a and b is',a and b) # Conjunção(AND) entre 'a' e 'b'\n",
        "\n",
        "print('a or b is',a or b) # Disjunção(OR) entre 'a' e 'b'\n",
        "\n",
        "print('not a is',not a) # Negação(NOT) de 'a'"
      ],
      "execution_count": null,
      "outputs": [
        {
          "output_type": "stream",
          "text": [
            "a and b is False\n",
            "a or b is True\n",
            "not a is False\n"
          ],
          "name": "stdout"
        }
      ]
    },
    {
      "cell_type": "markdown",
      "metadata": {
        "id": "FwKuhLOBGIDH"
      },
      "source": [
        "**Operadores Bitwise**\n",
        "\n",
        "Estes operadores atuam diretamente sobre os bits dos valores operados. Por exemplo, a operação 'a & b' resulta num valor cujo os bits são resultados da conjunção dos respectivos bits de 'a' e 'b' na mesma posição.\n",
        "\n",
        "> **a** = 10      (0000 1010)\n",
        ">\n",
        "> **b** = 4       (0000 0100)\n",
        "> \n",
        "> **a** **&** **b** = 0   (0000 0000)\n",
        "\n"
      ]
    },
    {
      "cell_type": "code",
      "metadata": {
        "id": "ZAY-ECsWm66C",
        "colab": {
          "base_uri": "https://localhost:8080/"
        },
        "outputId": "c052fe25-e192-4e7a-c37a-dcff0bfa1ba0"
      },
      "source": [
        "a = 10 # (0000 1010)\n",
        "b = 4  # (0000 0100)\n",
        "\n",
        "\n",
        "print(f\"a & b = {a & b} (0000 0000)\" ) # Conjunção(AND) entre bits\n",
        "print(f\"a | b = {a | b} (0000 1110)\" ) # Disjunção(OR) entre bits\n",
        "print(f\"~a = {~a} (1111 0101)\" ) # Negação(NOT) de cada bit\n",
        "print(f\"a ^ b = {a ^ b} (0000 1110)\" ) # Ou exclusivo(XOR) entre bits\n",
        "print(f\"a >> 2 = {a >> 2} (0000 0010)\" ) # Shift a direita, 2 neste exemplo\n",
        "print(f\"a << 2 = {a << 2} (0010 1000)\" ) # Shift a esquerda, 2 neste exemplo\n"
      ],
      "execution_count": null,
      "outputs": [
        {
          "output_type": "stream",
          "text": [
            "a & b = 0 (0000 0000)\n",
            "a | b = 14 (0000 1110)\n",
            "~a = -11 (1111 0101)\n",
            "a ^ b = 14 (0000 1110)\n",
            "a >> 2 = 2 (0000 0010)\n",
            "a << 2 = 40 (0010 1000)\n"
          ],
          "name": "stdout"
        }
      ]
    },
    {
      "cell_type": "markdown",
      "metadata": {
        "id": "al7STyubGIFl"
      },
      "source": [
        "**Operadores de atribuíção**\n",
        "\n",
        "O operador atribuição(=) pode ser combinado com outros operadores. Isso agiliza bastante a escrita de um código. Afinal, escrever x += 3 é bem mais rápido que x = x + 3 não é mesmo? Confira outros exemplos. "
      ]
    },
    {
      "cell_type": "code",
      "metadata": {
        "id": "02kS2uqAnBVJ",
        "colab": {
          "base_uri": "https://localhost:8080/"
        },
        "outputId": "9aeb3b6e-a063-45fc-b037-fe9b2305d607"
      },
      "source": [
        "print( \" 'x += 3' é equivalente a 'x = x + 3' \")\n",
        "print( \" 'x -= 3' é equivalente a 'x = x - 3' \")\n",
        "print( \" 'x *= 3' é equivalente a 'x = x * 3' \")\n",
        "print(\" \")\n",
        "\n",
        "print( \" 'x /= 3' é equivalente a 'x = x / 3' \")\n",
        "print( \" 'x %= 3' é equivalente a 'x = x % 3' \")\n",
        "print( \" 'x //= 3' é equivalente a 'x = x // 3' \")\n",
        "print(\" \")\n",
        "\n",
        "print( \" 'x **= 3' é equivalente a 'x = x ** 3' \")\n",
        "print( \" 'x &= 3' é equivalente a 'x = x & 3' \")\n",
        "print( \" 'x |= 3' é equivalente a 'x = x | 3' \")\n",
        "print(\" \")\n",
        "\n",
        "print( \" 'x ^= 3' é equivalente a 'x = x ^ 3' \")\n",
        "print( \" 'x >>= 3' é equivalente a 'x = x >> 3' \")\n",
        "print( \" 'x <<= 3' é equivalente a 'x = x << 3' \")"
      ],
      "execution_count": null,
      "outputs": [
        {
          "output_type": "stream",
          "text": [
            " 'x += 3' é equivalente a 'x = x + 3' \n",
            " 'x -= 3' é equivalente a 'x = x - 3' \n",
            " 'x *= 3' é equivalente a 'x = x * 3' \n",
            " \n",
            " 'x /= 3' é equivalente a 'x = x / 3' \n",
            " 'x %= 3' é equivalente a 'x = x % 3' \n",
            " 'x //= 3' é equivalente a 'x = x // 3' \n",
            " \n",
            " 'x **= 3' é equivalente a 'x = x ** 3' \n",
            " 'x &= 3' é equivalente a 'x = x & 3' \n",
            " 'x |= 3' é equivalente a 'x = x | 3' \n",
            " \n",
            " 'x ^= 3' é equivalente a 'x = x ^ 3' \n",
            " 'x >>= 3' é equivalente a 'x = x >> 3' \n",
            " 'x <<= 3' é equivalente a 'x = x << 3' \n"
          ],
          "name": "stdout"
        }
      ]
    },
    {
      "cell_type": "markdown",
      "metadata": {
        "id": "_DIyX0S7GLPQ"
      },
      "source": [
        "**Operadores de identidade**\n",
        "\n",
        "Similar aos operadores de comparação, estes comparam se os operandos são iguais como objetos e não apenas em conteúdo(valores).\n",
        "\n",
        "Estes operadores são ainda mais importantes quando trabalhamos com Programação Orientada a Objetos."
      ]
    },
    {
      "cell_type": "code",
      "metadata": {
        "colab": {
          "base_uri": "https://localhost:8080/"
        },
        "id": "3wtzLFV0G4HB",
        "outputId": "6030ddce-6077-4192-f41b-026b4a0ed6e2"
      },
      "source": [
        "a = 1\n",
        "b = '1'\n",
        "\n",
        "# Output: a is b = False\n",
        "print(\" a is b =\", a is b)\n",
        "\n",
        "# Output: a is not b = True\n",
        "print(\" a is not b =\", a is not b)"
      ],
      "execution_count": 6,
      "outputs": [
        {
          "output_type": "stream",
          "name": "stdout",
          "text": [
            " a is b = False\n",
            " a is not b = True\n"
          ]
        }
      ]
    },
    {
      "cell_type": "code",
      "metadata": {
        "colab": {
          "base_uri": "https://localhost:8080/"
        },
        "id": "DmVWUKUlHKJe",
        "outputId": "7fab0cd6-ce84-4ed3-9e8b-0aeed4099fd5"
      },
      "source": [
        "a = [1,2,3,4,5]\n",
        "a = ['1','2','3','4','5']\n",
        "\n",
        "# Output: a is b = False\n",
        "print(\" a is b =\", a is b)\n",
        "\n",
        "# Output: a is not b = True\n",
        "print(\" a is not b =\", a is not b)"
      ],
      "execution_count": 7,
      "outputs": [
        {
          "output_type": "stream",
          "name": "stdout",
          "text": [
            " a is b = False\n",
            " a is not b = True\n"
          ]
        }
      ]
    },
    {
      "cell_type": "markdown",
      "metadata": {
        "id": "WptOW_RXGIIZ"
      },
      "source": [
        "\n",
        "\n",
        "---\n",
        "\n",
        "\n",
        "Espero que tenha gostado do material. Sempre que possível farei atualizações neste conteúdo.\n",
        "\n",
        "Se tiver sugestões ou dúvidas a respeito do assunto, entre em contato comigo pelo instagram @erickbsouza.\n"
      ]
    }
  ]
}